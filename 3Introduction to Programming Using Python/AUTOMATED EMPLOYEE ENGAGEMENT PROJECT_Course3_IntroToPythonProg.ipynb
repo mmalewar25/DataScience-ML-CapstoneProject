{
 "cells": [
  {
   "cell_type": "markdown",
   "id": "3981741b-987f-4eac-ae14-b6d4511f9a51",
   "metadata": {},
   "source": [
    "# Automated Employee Engagement Project - Part 1"
   ]
  },
  {
   "cell_type": "markdown",
   "id": "edef6dd3-84b0-4c6e-983f-5d007464d3f6",
   "metadata": {
    "jp-MarkdownHeadingCollapsed": true
   },
   "source": [
    "## Task 1"
   ]
  },
  {
   "cell_type": "code",
   "execution_count": 55,
   "id": "70b244de-3d4e-4711-9ea3-1f1cebba2ebb",
   "metadata": {},
   "outputs": [
    {
     "name": "stdout",
     "output_type": "stream",
     "text": [
      "Welcome to the game of riddles!\n",
      "\n",
      "\n",
      " What goes up but never comes down?\n"
     ]
    },
    {
     "name": "stdout",
     "output_type": "stream",
     "text": [
      "\n",
      "Enter your answer: age\n"
     ]
    },
    {
     "name": "stdout",
     "output_type": "stream",
     "text": [
      "Correct!\n"
     ]
    },
    {
     "name": "stdout",
     "output_type": "stream",
     "text": [
      "\n",
      "Do you want to play again? (y/n): n\n"
     ]
    },
    {
     "name": "stdout",
     "output_type": "stream",
     "text": [
      "\n",
      "Your final score is: 100.00%\n"
     ]
    }
   ],
   "source": [
    "import random\n",
    "from abc import ABC, abstractmethod\n",
    "\n",
    "class PlayGame(ABC): #abstract class\n",
    "\n",
    "    @abstractmethod\n",
    "    def play_game(self): #abstract method\n",
    "        pass\n",
    "\n",
    "class Riddle(PlayGame): #inherit the property of abstract class\n",
    "    \n",
    "    def __init__(self): #constructor to initialize the variables\n",
    "        self.total_ques = 0\n",
    "        self.score = 0\n",
    "        self.riddles = {\"I have cities, but no houses; I have roads, but no cars. What am I?\": \"map\",\n",
    "                        \"What has an eye but cannot see?\": \"needle\",\n",
    "                        \"What can run but never walks, has a mouth but never talks, has a bed but never sleeps?\": \"river\",\n",
    "                        \"I am tall when I am young and short when I am old. What am I?\": \"candle\",\n",
    "                        \"What is always coming, but never arrives?\": \"tomorrow\",\n",
    "                        \"What has no beginning, no end, and no middle?\": \"circle\",\n",
    "                        \"What can travel around the world while staying in a corner?\": \"stamp\",\n",
    "                        \"I have keys that open no locks. I have space, but no room. You can enter, but can't go inside. What am I?\": \"keyboard\",\n",
    "                        \"What goes up but never comes down?\": \"age\",\n",
    "                        \"What is black when it is clean and white when it is dirty?\": \"blackboard\"}\n",
    "\n",
    "    def play_game(self): #defining the implementation of play_game\n",
    "        print('Welcome to the game of riddles!\\n')\n",
    "        while True:\n",
    "            random_riddle = random.choice(list(self.riddles.items())) #generating random riddles from the dictionary\n",
    "            print('\\n',random_riddle[0]) #printing question\n",
    "            user_ans = input('\\nEnter your answer:').lower() #asking user to input answer\n",
    "            if user_ans == random_riddle[1].lower():\n",
    "                print('Correct!')\n",
    "                self.score += 1\n",
    "            else:\n",
    "                print('Incorrect! The answer is:',random_riddle[1])\n",
    "            self.total_ques += 1\n",
    "            play_again = input('\\nDo you want to play again? (y/n):').lower() #asking user to play again\n",
    "            if play_again != 'y':\n",
    "                break\n",
    "        self.calculate_score() #calling method to calculate final score\n",
    "\n",
    "    def calculate_score(self): #method to calculate final score\n",
    "        percentage = (self.score/self.total_ques)*100\n",
    "        print(f'\\nYour final score is: {percentage:.2f}%')\n",
    "\n",
    "def main():\n",
    "    game = Riddle() #creating object\n",
    "    game.play_game() #calling method\n",
    "    \n",
    "if __name__=='__main__':\n",
    "    main()"
   ]
  },
  {
   "cell_type": "markdown",
   "id": "c74c61bb-5fe9-47e1-b745-d74ed8a11f74",
   "metadata": {
    "jp-MarkdownHeadingCollapsed": true
   },
   "source": [
    "## Task 2"
   ]
  },
  {
   "cell_type": "code",
   "execution_count": 57,
   "id": "8c3eed28-fc80-4cd3-b906-ba1d33113bd0",
   "metadata": {},
   "outputs": [
    {
     "name": "stdout",
     "output_type": "stream",
     "text": [
      "Welcome to the arithmetic puzzle!\n",
      "\n",
      "2 * 4 = \n"
     ]
    },
    {
     "name": "stdout",
     "output_type": "stream",
     "text": [
      "\n",
      "Enter your answer: 8\n"
     ]
    },
    {
     "name": "stdout",
     "output_type": "stream",
     "text": [
      "Correct!\n"
     ]
    },
    {
     "name": "stdout",
     "output_type": "stream",
     "text": [
      "\n",
      "Do you want to play again? (y/n): n\n"
     ]
    },
    {
     "name": "stdout",
     "output_type": "stream",
     "text": [
      "\n",
      "Your final score is: 100.00%\n"
     ]
    }
   ],
   "source": [
    "import random\n",
    "from abc import ABC, abstractmethod\n",
    "\n",
    "class PlayGame(ABC): #abstract class\n",
    "\n",
    "    @abstractmethod\n",
    "    def play_game(self): #abstract method\n",
    "        pass\n",
    "\n",
    "class ArithmeticPuzzle(PlayGame): #inherit the property of abstract class\n",
    "\n",
    "    def __init__(self): #constructor to initialize the variables\n",
    "        self.total_ques = 0\n",
    "        self.score = 0\n",
    "\n",
    "    def play_game(self):\n",
    "        print('Welcome to the arithmetic puzzle!\\n')\n",
    "        while True:\n",
    "            operator = random.choice(['+','-','*','/']) #generating random operator\n",
    "            num1 = random.randint(1,20) #generating random number\n",
    "            num2 = random.randint(1,20) #generating random number\n",
    "            try:\n",
    "                print(f'{num1} {operator} {num2} = ') #printing question\n",
    "                user_ans = int(input('\\nEnter your answer:')) #asking user to input answer\n",
    "                if operator == '+':\n",
    "                    correct_ans = num1 + num2\n",
    "                elif operator == '-':\n",
    "                    correct_ans = num1 - num2\n",
    "                elif operator == '*':\n",
    "                    correct_ans = num1 * num2\n",
    "                else:\n",
    "                    correct_ans = num1 / num2\n",
    "                if user_ans == correct_ans:\n",
    "                    print('Correct!')\n",
    "                    self.score += 1\n",
    "                else:\n",
    "                    print('Incorrect! The answer is:',correct_ans)\n",
    "                self.total_ques += 1\n",
    "            except ValueError: #validating input\n",
    "                print('Invalid input. Please enter a number')\n",
    "            except ZeroDivisionError: #validating input\n",
    "                print('Division by zero is not allowed')\n",
    "            play_again = input('\\nDo you want to play again? (y/n):').lower() #asking user to play again\n",
    "            if play_again != 'y':\n",
    "                break\n",
    "        self.calculate_score() #calling method to calculate final score\n",
    "\n",
    "    def calculate_score(self): #method to calculate final score\n",
    "        percentage = (self.score/self.total_ques)*100\n",
    "        print(f'\\nYour final score is: {percentage:.2f}%')\n",
    "\n",
    "def main():\n",
    "    game = ArithmeticPuzzle() #creating object\n",
    "    game.play_game() #calling method\n",
    "    \n",
    "if __name__=='__main__':\n",
    "    main()"
   ]
  },
  {
   "cell_type": "markdown",
   "id": "2330dba7-1e74-475f-bdd4-02f91760a719",
   "metadata": {
    "jp-MarkdownHeadingCollapsed": true
   },
   "source": [
    "## Task 3"
   ]
  },
  {
   "cell_type": "code",
   "execution_count": 59,
   "id": "d4d6f478-ed62-4aef-ac82-20c36691aa05",
   "metadata": {},
   "outputs": [
    {
     "name": "stdout",
     "output_type": "stream",
     "text": [
      "Welcome to the quiz!\n",
      "\n",
      "Choose your category:\n",
      "1. Science\n",
      "2. Mathematics\n",
      "3. Geography\n",
      "4. Others\n"
     ]
    },
    {
     "name": "stdout",
     "output_type": "stream",
     "text": [
      "\n",
      "Enter your choice (1-4): 2\n"
     ]
    },
    {
     "name": "stdout",
     "output_type": "stream",
     "text": [
      "\n",
      " What is the only even prime number?\n"
     ]
    },
    {
     "name": "stdout",
     "output_type": "stream",
     "text": [
      "\n",
      "Enter your answer:  2\n"
     ]
    },
    {
     "name": "stdout",
     "output_type": "stream",
     "text": [
      "Correct!\n",
      "\n",
      " What is the sum of the first 5 natural numbers?\n"
     ]
    },
    {
     "name": "stdout",
     "output_type": "stream",
     "text": [
      "\n",
      "Enter your answer:  15\n"
     ]
    },
    {
     "name": "stdout",
     "output_type": "stream",
     "text": [
      "Correct!\n",
      "\n",
      " What is the name of the mathematical symbol ㅠ?\n"
     ]
    },
    {
     "name": "stdout",
     "output_type": "stream",
     "text": [
      "\n",
      "Enter your answer:  pi\n"
     ]
    },
    {
     "name": "stdout",
     "output_type": "stream",
     "text": [
      "Correct!\n"
     ]
    },
    {
     "name": "stdout",
     "output_type": "stream",
     "text": [
      "\n",
      "Do you want to play again? (y/n): n\n"
     ]
    },
    {
     "name": "stdout",
     "output_type": "stream",
     "text": [
      "\n",
      "Game Summary:\n",
      "Total questions: 3\n",
      "Correct answers: 3\n",
      "Your final score is: 100.00%\n",
      "\n",
      "Thanks for playing!\n"
     ]
    }
   ],
   "source": [
    "import random\n",
    "from abc import ABC, abstractmethod\n",
    "\n",
    "class PlayGame(ABC): #abstract class\n",
    "\n",
    "    @abstractmethod\n",
    "    def play_game(self): #abstract method\n",
    "        pass\n",
    "        \n",
    "class Quiz(PlayGame): #inherit the property of abstract class\n",
    "\n",
    "    def __init__(self):  #constructor to initialize the variables\n",
    "        self.total_ques = 0\n",
    "        self.score = 0\n",
    "        self.categories = {1:[(\"Which gas do plants absorb during photosynthesis?\", \"Carbon dioxide\"),\n",
    "                              (\"What is the full name of the WWW?\", \"World Wide Web\"),\n",
    "                              (\"How many bones are there in the adult human body?\", 206)],\n",
    "                           2:[(\"What is the only even prime number?\", 2),\n",
    "                              (\"What is the sum of the first 5 natural numbers?\", 15),\n",
    "                              (\"What is the name of the mathematical symbol ㅠ?\", \"Pi\")],\n",
    "                           3:[(\"What is the tallest mountain on Earth?\", \"Mount Everest\"),\n",
    "                              (\"What is the capital of France?\", \"Paris\"),\n",
    "                              (\"Which planet is known as the 'Red Planet'?\", \"Mars\")],\n",
    "                           4:[(\"Which country won the most recent FIFA World Cup (as of 2022)?\", \"Argentina\"),\n",
    "                              (\"Who invented the light bulb?\", \"Thomas Edison\"),\n",
    "                              (\"In what year did India declare itself a Democratic and Republic state with the adoption of the Constitution?\", 1950)]}\n",
    "    \n",
    "    def ask_category(self):\n",
    "        print('\\nChoose your category:') #displaying menu\n",
    "        print('1. Science')\n",
    "        print('2. Mathematics')\n",
    "        print('3. Geography')\n",
    "        print('4. Others')\n",
    "        while True:\n",
    "            try:\n",
    "                choice = int(input('\\nEnter your choice (1-4):')) #asking user to input selection\n",
    "                if 1<=choice<=4:\n",
    "                    return choice\n",
    "                else:\n",
    "                    print('Invalid choice')\n",
    "            except ValueError: #checking for invalid input\n",
    "                print('Invalid input')\n",
    "\n",
    "    def ask_question(self,question):\n",
    "        print('\\n',question) #printing question\n",
    "        return input('\\nEnter your answer: ') #asking user to input answer\n",
    "\n",
    "    def check_answer(self,user_ans,correct_ans): #method to check if answer is correct\n",
    "        if user_ans.lower() == str(correct_ans).lower():\n",
    "            print('Correct!')\n",
    "            return True\n",
    "        else:\n",
    "            print(f'Incorrect!. The answer is: {correct_ans}')\n",
    "            return False\n",
    "\n",
    "    def display_score(self,questions,score): #method to display final score with percentage\n",
    "        print('\\nGame Summary:')\n",
    "        print(f'Total questions: {questions}')\n",
    "        print(f'Correct answers: {score}')\n",
    "        percentage = (score/questions)*100\n",
    "        print(f'Your final score is: {percentage:.2f}%')\n",
    "\n",
    "    def exec_questions(self,questions): #method to iterate questions and count score\n",
    "        score = 0\n",
    "        for question,answer in questions:\n",
    "            user_ans = self.ask_question(question)\n",
    "            if self.check_answer(user_ans,answer):\n",
    "                score += 1\n",
    "        return score\n",
    "\n",
    "    def play_game(self):\n",
    "        while True:\n",
    "            choice = self.ask_category()\n",
    "            questions = self.categories[choice]\n",
    "            score = self.exec_questions(questions)\n",
    "            play_again = input('\\nDo you want to play again? (y/n):').lower() #asking user to play again\n",
    "            if play_again != 'y':\n",
    "                break\n",
    "        self.display_score(len(questions),score)    \n",
    "        \n",
    "if __name__=='__main__':\n",
    "    print('Welcome to the quiz!')\n",
    "    quiz = Quiz() #creating object\n",
    "    quiz.play_game() #calling method\n",
    "    print('\\nThanks for playing!')"
   ]
  },
  {
   "cell_type": "markdown",
   "id": "3ae257ea-1168-4f41-b4dc-51b813957763",
   "metadata": {
    "jp-MarkdownHeadingCollapsed": true
   },
   "source": [
    "## Task 4"
   ]
  },
  {
   "cell_type": "code",
   "execution_count": 61,
   "id": "4f317343-c43b-4ac9-8f9d-0cfaa94ea155",
   "metadata": {},
   "outputs": [
    {
     "name": "stdout",
     "output_type": "stream",
     "text": [
      "Welcome to Rock-Paper-Scissors!\n"
     ]
    },
    {
     "name": "stdout",
     "output_type": "stream",
     "text": [
      "Enter your choice (rock/paper/scissors): rock\n"
     ]
    },
    {
     "name": "stdout",
     "output_type": "stream",
     "text": [
      "\n",
      "Computer chose: paper\n",
      "You chose: rock\n",
      "\n",
      "Computer wins!\n"
     ]
    },
    {
     "name": "stdout",
     "output_type": "stream",
     "text": [
      "\n",
      "Do you want to play again? (y/n): n\n"
     ]
    },
    {
     "name": "stdout",
     "output_type": "stream",
     "text": [
      "\n",
      "Thanks for playing!\n"
     ]
    }
   ],
   "source": [
    "import random\n",
    "from abc import ABC, abstractmethod\n",
    "\n",
    "class PlayGame(ABC): #abstract class\n",
    "\n",
    "    @abstractmethod\n",
    "    def play_game(self): #abstract method\n",
    "        pass\n",
    "\n",
    "class RockPaperScissors(PlayGame): #inherit the property of abstract class\n",
    "\n",
    "    def __init__(self): #constructor to initialize the variables\n",
    "        self.choices = ['rock','paper','scissors']\n",
    "\n",
    "    def play_game(self):\n",
    "        while True:\n",
    "            computer_choice = random.choice(self.choices) #generating random choice\n",
    "            user_choice = input('Enter your choice (rock/paper/scissors):').lower() #asking user to input choice\n",
    "            if user_choice not in self.choices: #validating input\n",
    "                print('Invalid choice')\n",
    "                continue\n",
    "            print(f'\\nComputer chose: {computer_choice}')\n",
    "            print(f'You chose: {user_choice}\\n')\n",
    "            if user_choice == computer_choice:\n",
    "                print(\"It's a tie!\")\n",
    "            elif (user_choice == 'rock' and computer_choice == 'scissors') or (user_choice == 'paper' and computer_choice == 'rock') or (user_choice == 'scissors' and computer_choice == 'paper'):\n",
    "                print('You win!')\n",
    "            else:\n",
    "                print('Computer wins!')\n",
    "            play_again = input('\\nDo you want to play again? (y/n):').lower() #asking user to play again\n",
    "            if play_again != 'y':\n",
    "                break\n",
    "\n",
    "if __name__=='__main__':\n",
    "    print('Welcome to Rock-Paper-Scissors!')\n",
    "    game = RockPaperScissors() #creating object\n",
    "    game.play_game() #calling method\n",
    "    print('\\nThanks for playing!')"
   ]
  },
  {
   "cell_type": "markdown",
   "id": "f72c2ad6-b5c4-41c5-bb69-04a49068b5cf",
   "metadata": {
    "jp-MarkdownHeadingCollapsed": true
   },
   "source": [
    "## Task 5"
   ]
  },
  {
   "cell_type": "code",
   "execution_count": 63,
   "id": "21852938-aee5-4324-910b-5c6ca273c53d",
   "metadata": {},
   "outputs": [
    {
     "name": "stdout",
     "output_type": "stream",
     "text": [
      "Welcome to Rock-Paper-Scissors 2 Player!\n"
     ]
    },
    {
     "name": "stdout",
     "output_type": "stream",
     "text": [
      "\n",
      "Enter player1 name: Mandar\n",
      "Enter player2 name: Mak\n",
      "\n",
      "Mandar enter your choice (rock/paper/scissors): roc\n"
     ]
    },
    {
     "name": "stdout",
     "output_type": "stream",
     "text": [
      "Invalid choice\n"
     ]
    },
    {
     "name": "stdout",
     "output_type": "stream",
     "text": [
      "\n",
      "Mandar enter your choice (rock/paper/scissors): rock\n",
      "Mak enter your choice (rock/paper/scissors): scissors\n"
     ]
    },
    {
     "name": "stdout",
     "output_type": "stream",
     "text": [
      "\n",
      "Mandar chose: rock\n",
      "Mak chose: scissors\n",
      "\n",
      "Mandar wins!\n"
     ]
    },
    {
     "name": "stdout",
     "output_type": "stream",
     "text": [
      "\n",
      "Do you want to play again? (y/n): n\n"
     ]
    },
    {
     "name": "stdout",
     "output_type": "stream",
     "text": [
      "\n",
      "Thanks for playing!\n"
     ]
    }
   ],
   "source": [
    "import random\n",
    "from abc import ABC, abstractmethod\n",
    "\n",
    "class PlayGame(ABC): #abstract class\n",
    "\n",
    "    @abstractmethod\n",
    "    def play_game(self): #abstract method\n",
    "        pass\n",
    "\n",
    "class RockPaperScissors2P(PlayGame): #inherit the property of abstract class\n",
    "\n",
    "    def __init__(self): #constructor to initialize the variables\n",
    "        self.choices = ['rock','paper','scissors']\n",
    "\n",
    "    def play_game(self):\n",
    "        user1_name = input('\\nEnter player1 name:') #asking user1 to input name\n",
    "        user2_name = input('Enter player2 name:') #asking user2 to input name\n",
    "        while True:\n",
    "            user1_choice = input(f'\\n{user1_name} enter your choice (rock/paper/scissors):').lower() #asking user1 to input choice\n",
    "            if user1_choice not in self.choices: #validating input for user1\n",
    "                print('Invalid choice')\n",
    "                continue\n",
    "            user2_choice = input(f'{user2_name} enter your choice (rock/paper/scissors):').lower() #asking user2 to input choice\n",
    "            if user2_choice not in self.choices: #validating input for user2\n",
    "                print('Invalid choice')\n",
    "                continue\n",
    "            print(f'\\n{user1_name} chose: {user1_choice}')\n",
    "            print(f'{user2_name} chose: {user2_choice}\\n')\n",
    "            if user1_choice == user2_choice:\n",
    "                print(\"It's a tie!\")\n",
    "            elif (user1_choice == 'rock' and user2_choice == 'scissors') or (user1_choice == 'paper' and user2_choice == 'rock') or (user1_choice == 'scissors' and user2_choice == 'paper'):\n",
    "                print(f'{user1_name} wins!')\n",
    "            else:\n",
    "                print(f'{user2_name} wins!')\n",
    "            play_again = input('\\nDo you want to play again? (y/n):').lower() #asking user to play again\n",
    "            if play_again != 'y':\n",
    "                break\n",
    "\n",
    "if __name__=='__main__':\n",
    "    print('Welcome to Rock-Paper-Scissors 2 Player!')\n",
    "    game = RockPaperScissors2P() #creating object\n",
    "    game.play_game() #calling method\n",
    "    print('\\nThanks for playing!')"
   ]
  },
  {
   "cell_type": "markdown",
   "id": "1ab6615f-944c-465c-ad38-371d9fc65372",
   "metadata": {},
   "source": [
    "# Automated Employee Engagement Project - Part 2"
   ]
  },
  {
   "cell_type": "markdown",
   "id": "7b924081-62a2-4036-9330-6fb0f9d668ca",
   "metadata": {},
   "source": [
    "## Task 1"
   ]
  },
  {
   "cell_type": "code",
   "execution_count": 65,
   "id": "05b9d0c6-5e1b-4bfe-b8a8-e42b965da748",
   "metadata": {},
   "outputs": [
    {
     "name": "stdout",
     "output_type": "stream",
     "text": [
      "Welcome to the word guessing game!\n",
      "Guess the secret word related to python in 5 attempts!\n",
      "\n",
      "Hint: the secret word has 6 letters\n"
     ]
    },
    {
     "name": "stdout",
     "output_type": "stream",
     "text": [
      "\n",
      "Enter your guess: python\n"
     ]
    },
    {
     "name": "stdout",
     "output_type": "stream",
     "text": [
      "Congratulations! You win.\n"
     ]
    },
    {
     "name": "stdout",
     "output_type": "stream",
     "text": [
      "\n",
      "Do you want to play again? (y/n): n\n"
     ]
    },
    {
     "name": "stdout",
     "output_type": "stream",
     "text": [
      "\n",
      "Thanks for playing!\n"
     ]
    }
   ],
   "source": [
    "import random\n",
    "from abc import ABC, abstractmethod\n",
    "\n",
    "class PlayGame(ABC): #abstract class\n",
    "\n",
    "    @abstractmethod\n",
    "    def play_game(self): #abstract method\n",
    "        pass\n",
    "\n",
    "class WordGuessingGame(PlayGame): #inherit the property of abstract class\n",
    "\n",
    "    def __init__(self): #constructor to initialize the variables\n",
    "        self.words = [\"python\", \"program\", \"class\", \"method\", \"abstract\", \"variable\"]\n",
    "        self.secret_word = random.choice(self.words) #generating random word from the list\n",
    "        self.word_length = len(self.secret_word) #counting letters of the word\n",
    "        self.guesses = [] #creating empty list\n",
    "        self.attempts = 5\n",
    "\n",
    "    def play_game(self):\n",
    "        print(f'\\nHint: the secret word has {self.word_length} letters')\n",
    "        while self.attempts>0:\n",
    "            guess = input('\\nEnter your guess:').lower() #asking user to input word\n",
    "            if guess == self.secret_word:\n",
    "                print('Congratulations! You win.')\n",
    "                break\n",
    "            if guess in self.guesses:\n",
    "                print('You already guessed that word! Try another one.')\n",
    "            elif guess in self.secret_word:\n",
    "                print('Correct word!')\n",
    "            else:\n",
    "                print('Incorrect word!')\n",
    "                self.attempts -= 1\n",
    "            self.guesses.append(guess) #appending guess to guesses list\n",
    "        if self.attempts == 0:\n",
    "            print('\\nSorry, you lose! The secret word was:',self.secret_word)\n",
    "        play_again = input('\\nDo you want to play again? (y/n):').lower() #asking user to play again\n",
    "        if play_again == 'y':\n",
    "            self.__init__() #resetting the game for a new round\n",
    "            self.play_game()\n",
    "                \n",
    "if __name__=='__main__':\n",
    "    print('Welcome to the word guessing game!')\n",
    "    print('Guess the secret word related to python in 5 attempts!')\n",
    "    game = WordGuessingGame() #creating object\n",
    "    game.play_game() #calling method\n",
    "    print('\\nThanks for playing!')"
   ]
  },
  {
   "cell_type": "markdown",
   "id": "a53c013d-f06c-4175-b422-235e6bc1418b",
   "metadata": {},
   "source": [
    "## Task 2"
   ]
  },
  {
   "cell_type": "code",
   "execution_count": 75,
   "id": "af2acb3d-d905-4275-a7c4-91905f051577",
   "metadata": {},
   "outputs": [
    {
     "name": "stdout",
     "output_type": "stream",
     "text": [
      "Welcome to the Gaming Console!\n",
      "\n",
      "Select a game to play:\n",
      "1. Riddle\n",
      "2. Arithmetic Puzzle\n",
      "3. Quiz\n",
      "4. Rock-Paper-Scissors with computer\n",
      "5. Rock-Paper-Scissors 2 player\n",
      "6. Word Guessing\n"
     ]
    },
    {
     "name": "stdout",
     "output_type": "stream",
     "text": [
      "\n",
      "Enter your choice (1-6): 2\n"
     ]
    },
    {
     "name": "stdout",
     "output_type": "stream",
     "text": [
      "Welcome to the arithmetic puzzle!\n",
      "\n",
      "4 + 13 = \n"
     ]
    },
    {
     "name": "stdout",
     "output_type": "stream",
     "text": [
      "\n",
      "Enter your answer: 17\n"
     ]
    },
    {
     "name": "stdout",
     "output_type": "stream",
     "text": [
      "Correct!\n"
     ]
    },
    {
     "name": "stdout",
     "output_type": "stream",
     "text": [
      "\n",
      "Do you want to play again? (y/n): n\n"
     ]
    },
    {
     "name": "stdout",
     "output_type": "stream",
     "text": [
      "\n",
      "Your final score is: 100.00%\n"
     ]
    },
    {
     "name": "stdout",
     "output_type": "stream",
     "text": [
      "\n",
      "Do you want to play again? (y/n): n\n"
     ]
    },
    {
     "name": "stdout",
     "output_type": "stream",
     "text": [
      "\n",
      "Thank you, visit again!\n"
     ]
    }
   ],
   "source": [
    "class GameMenu():\n",
    "\n",
    "    @staticmethod\n",
    "    def menu(): #static method\n",
    "        print('Welcome to the Gaming Console!')\n",
    "        print('\\nSelect a game to play:') #displaying menu\n",
    "        print('1. Riddle')\n",
    "        print('2. Arithmetic Puzzle')\n",
    "        print('3. Quiz')\n",
    "        print('4. Rock-Paper-Scissors with computer')\n",
    "        print('5. Rock-Paper-Scissors 2 player')\n",
    "        print('6. Word Guessing')\n",
    "\n",
    "def main():\n",
    "    while True:\n",
    "        GameMenu.menu()\n",
    "        try:\n",
    "            choice = int(input('\\nEnter your choice (1-6):')) #asking user to input selection\n",
    "            if not 1<=choice<=6: #validating input\n",
    "                print('Invalid choice')\n",
    "                continue\n",
    "        except ValueError: #validating input\n",
    "            print('Invalid input')  \n",
    "            continue\n",
    "        if choice == 1:\n",
    "            Riddle().play_game()\n",
    "        elif choice == 2:\n",
    "            ArithmeticPuzzle().play_game()\n",
    "        elif choice == 3:\n",
    "            Quiz().play_game()\n",
    "        elif choice == 4:\n",
    "            RockPaperScissors().play_game()\n",
    "        elif choice == 5:\n",
    "            RockPaperScissors2P().play_game()\n",
    "        else:\n",
    "            WordGuessingGame().play_game()\n",
    "        play_again = input('\\nDo you want to play again? (y/n):').lower() #asking user to play again\n",
    "        if play_again != 'y':\n",
    "            print('\\nThank you, visit again!')\n",
    "            break\n",
    "        \n",
    "if __name__=='__main__':\n",
    "    main()"
   ]
  }
 ],
 "metadata": {
  "kernelspec": {
   "display_name": "Python 3 (ipykernel)",
   "language": "python",
   "name": "python3"
  },
  "language_info": {
   "codemirror_mode": {
    "name": "ipython",
    "version": 3
   },
   "file_extension": ".py",
   "mimetype": "text/x-python",
   "name": "python",
   "nbconvert_exporter": "python",
   "pygments_lexer": "ipython3",
   "version": "3.12.4"
  }
 },
 "nbformat": 4,
 "nbformat_minor": 5
}
