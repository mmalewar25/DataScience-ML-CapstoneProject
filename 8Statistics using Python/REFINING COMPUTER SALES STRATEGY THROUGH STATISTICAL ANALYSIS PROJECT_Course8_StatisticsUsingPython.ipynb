{
 "cells": [
  {
   "cell_type": "markdown",
   "metadata": {
    "jp-MarkdownHeadingCollapsed": true
   },
   "source": [
    "# Refining Computer Sales Strategy Through Statistical Analysis Project - Part 1"
   ]
  },
  {
   "cell_type": "code",
   "execution_count": 12,
   "metadata": {},
   "outputs": [],
   "source": [
    "# Importing libraries\n",
    "import numpy as np #for numerical computation\n",
    "import pandas as pd #for data reading and manipulation\n",
    "import matplotlib.pyplot as plt #to visualize data\n",
    "import statistics as st\n",
    "import scipy.stats as sts\n",
    "import math\n",
    "import seaborn as sns #to visualize data\n",
    "from scipy.stats import t\n",
    "from scipy.stats import kurtosis\n",
    "from scipy.stats import norm #probability distribution function\n",
    "from tabulate import tabulate #to print table\n",
    "import warnings\n",
    "warnings.filterwarnings(\"ignore\")"
   ]
  },
  {
   "cell_type": "markdown",
   "metadata": {
    "jp-MarkdownHeadingCollapsed": true
   },
   "source": [
    "## Data Preprocessing and Cleaning"
   ]
  },
  {
   "cell_type": "code",
   "execution_count": 14,
   "metadata": {},
   "outputs": [
    {
     "data": {
      "text/html": [
       "<div>\n",
       "<style scoped>\n",
       "    .dataframe tbody tr th:only-of-type {\n",
       "        vertical-align: middle;\n",
       "    }\n",
       "\n",
       "    .dataframe tbody tr th {\n",
       "        vertical-align: top;\n",
       "    }\n",
       "\n",
       "    .dataframe thead th {\n",
       "        text-align: right;\n",
       "    }\n",
       "</style>\n",
       "<table border=\"1\" class=\"dataframe\">\n",
       "  <thead>\n",
       "    <tr style=\"text-align: right;\">\n",
       "      <th></th>\n",
       "      <th>index</th>\n",
       "      <th>price</th>\n",
       "      <th>speed</th>\n",
       "      <th>hd</th>\n",
       "      <th>ram</th>\n",
       "      <th>screen</th>\n",
       "      <th>cd</th>\n",
       "      <th>multi</th>\n",
       "      <th>premium</th>\n",
       "      <th>ads_2022</th>\n",
       "      <th>ads_2023</th>\n",
       "      <th>trend</th>\n",
       "    </tr>\n",
       "  </thead>\n",
       "  <tbody>\n",
       "    <tr>\n",
       "      <th>0</th>\n",
       "      <td>1</td>\n",
       "      <td>1499</td>\n",
       "      <td>25</td>\n",
       "      <td>80</td>\n",
       "      <td>4</td>\n",
       "      <td>14</td>\n",
       "      <td>no</td>\n",
       "      <td>no</td>\n",
       "      <td>yes</td>\n",
       "      <td>94</td>\n",
       "      <td>94</td>\n",
       "      <td>1</td>\n",
       "    </tr>\n",
       "    <tr>\n",
       "      <th>1</th>\n",
       "      <td>2</td>\n",
       "      <td>1795</td>\n",
       "      <td>33</td>\n",
       "      <td>85</td>\n",
       "      <td>2</td>\n",
       "      <td>14</td>\n",
       "      <td>no</td>\n",
       "      <td>no</td>\n",
       "      <td>yes</td>\n",
       "      <td>94</td>\n",
       "      <td>94</td>\n",
       "      <td>1</td>\n",
       "    </tr>\n",
       "    <tr>\n",
       "      <th>2</th>\n",
       "      <td>3</td>\n",
       "      <td>1595</td>\n",
       "      <td>25</td>\n",
       "      <td>170</td>\n",
       "      <td>4</td>\n",
       "      <td>15</td>\n",
       "      <td>no</td>\n",
       "      <td>no</td>\n",
       "      <td>yes</td>\n",
       "      <td>94</td>\n",
       "      <td>94</td>\n",
       "      <td>1</td>\n",
       "    </tr>\n",
       "    <tr>\n",
       "      <th>3</th>\n",
       "      <td>4</td>\n",
       "      <td>1849</td>\n",
       "      <td>25</td>\n",
       "      <td>170</td>\n",
       "      <td>8</td>\n",
       "      <td>14</td>\n",
       "      <td>no</td>\n",
       "      <td>no</td>\n",
       "      <td>no</td>\n",
       "      <td>94</td>\n",
       "      <td>94</td>\n",
       "      <td>1</td>\n",
       "    </tr>\n",
       "    <tr>\n",
       "      <th>4</th>\n",
       "      <td>5</td>\n",
       "      <td>3295</td>\n",
       "      <td>33</td>\n",
       "      <td>340</td>\n",
       "      <td>16</td>\n",
       "      <td>14</td>\n",
       "      <td>no</td>\n",
       "      <td>no</td>\n",
       "      <td>yes</td>\n",
       "      <td>94</td>\n",
       "      <td>104</td>\n",
       "      <td>1</td>\n",
       "    </tr>\n",
       "    <tr>\n",
       "      <th>...</th>\n",
       "      <td>...</td>\n",
       "      <td>...</td>\n",
       "      <td>...</td>\n",
       "      <td>...</td>\n",
       "      <td>...</td>\n",
       "      <td>...</td>\n",
       "      <td>...</td>\n",
       "      <td>...</td>\n",
       "      <td>...</td>\n",
       "      <td>...</td>\n",
       "      <td>...</td>\n",
       "      <td>...</td>\n",
       "    </tr>\n",
       "    <tr>\n",
       "      <th>6254</th>\n",
       "      <td>6255</td>\n",
       "      <td>1690</td>\n",
       "      <td>100</td>\n",
       "      <td>528</td>\n",
       "      <td>8</td>\n",
       "      <td>15</td>\n",
       "      <td>no</td>\n",
       "      <td>no</td>\n",
       "      <td>yes</td>\n",
       "      <td>39</td>\n",
       "      <td>70</td>\n",
       "      <td>35</td>\n",
       "    </tr>\n",
       "    <tr>\n",
       "      <th>6255</th>\n",
       "      <td>6256</td>\n",
       "      <td>2223</td>\n",
       "      <td>66</td>\n",
       "      <td>850</td>\n",
       "      <td>16</td>\n",
       "      <td>15</td>\n",
       "      <td>yes</td>\n",
       "      <td>yes</td>\n",
       "      <td>yes</td>\n",
       "      <td>39</td>\n",
       "      <td>70</td>\n",
       "      <td>35</td>\n",
       "    </tr>\n",
       "    <tr>\n",
       "      <th>6256</th>\n",
       "      <td>6257</td>\n",
       "      <td>2654</td>\n",
       "      <td>100</td>\n",
       "      <td>1200</td>\n",
       "      <td>24</td>\n",
       "      <td>15</td>\n",
       "      <td>yes</td>\n",
       "      <td>no</td>\n",
       "      <td>yes</td>\n",
       "      <td>39</td>\n",
       "      <td>70</td>\n",
       "      <td>35</td>\n",
       "    </tr>\n",
       "    <tr>\n",
       "      <th>6257</th>\n",
       "      <td>6258</td>\n",
       "      <td>2195</td>\n",
       "      <td>100</td>\n",
       "      <td>850</td>\n",
       "      <td>16</td>\n",
       "      <td>15</td>\n",
       "      <td>yes</td>\n",
       "      <td>no</td>\n",
       "      <td>yes</td>\n",
       "      <td>39</td>\n",
       "      <td>70</td>\n",
       "      <td>35</td>\n",
       "    </tr>\n",
       "    <tr>\n",
       "      <th>6258</th>\n",
       "      <td>6259</td>\n",
       "      <td>2490</td>\n",
       "      <td>100</td>\n",
       "      <td>850</td>\n",
       "      <td>16</td>\n",
       "      <td>17</td>\n",
       "      <td>yes</td>\n",
       "      <td>no</td>\n",
       "      <td>yes</td>\n",
       "      <td>39</td>\n",
       "      <td>70</td>\n",
       "      <td>35</td>\n",
       "    </tr>\n",
       "  </tbody>\n",
       "</table>\n",
       "<p>6259 rows × 12 columns</p>\n",
       "</div>"
      ],
      "text/plain": [
       "      index  price  speed    hd  ram  screen   cd multi premium  ads_2022  \\\n",
       "0         1   1499     25    80    4      14   no    no     yes        94   \n",
       "1         2   1795     33    85    2      14   no    no     yes        94   \n",
       "2         3   1595     25   170    4      15   no    no     yes        94   \n",
       "3         4   1849     25   170    8      14   no    no      no        94   \n",
       "4         5   3295     33   340   16      14   no    no     yes        94   \n",
       "...     ...    ...    ...   ...  ...     ...  ...   ...     ...       ...   \n",
       "6254   6255   1690    100   528    8      15   no    no     yes        39   \n",
       "6255   6256   2223     66   850   16      15  yes   yes     yes        39   \n",
       "6256   6257   2654    100  1200   24      15  yes    no     yes        39   \n",
       "6257   6258   2195    100   850   16      15  yes    no     yes        39   \n",
       "6258   6259   2490    100   850   16      17  yes    no     yes        39   \n",
       "\n",
       "      ads_2023  trend  \n",
       "0           94      1  \n",
       "1           94      1  \n",
       "2           94      1  \n",
       "3           94      1  \n",
       "4          104      1  \n",
       "...        ...    ...  \n",
       "6254        70     35  \n",
       "6255        70     35  \n",
       "6256        70     35  \n",
       "6257        70     35  \n",
       "6258        70     35  \n",
       "\n",
       "[6259 rows x 12 columns]"
      ]
     },
     "execution_count": 14,
     "metadata": {},
     "output_type": "execute_result"
    }
   ],
   "source": [
    "# Reading data from existing .xlsx file using read_excel() of pandas module and storing into a dataframe\n",
    "computers_data = pd.read_csv(\"D:/Documents/NIIT/Course8/Sprint5/DS1_C8_Computers_Data_Project.csv\")\n",
    "computers_data"
   ]
  },
  {
   "cell_type": "code",
   "execution_count": 15,
   "metadata": {},
   "outputs": [
    {
     "name": "stdout",
     "output_type": "stream",
     "text": [
      "(6259, 12)\n"
     ]
    }
   ],
   "source": [
    "# Printing a tuple with the details number of rows and columns \n",
    "print(computers_data.shape) "
   ]
  },
  {
   "cell_type": "code",
   "execution_count": 16,
   "metadata": {},
   "outputs": [
    {
     "name": "stdout",
     "output_type": "stream",
     "text": [
      "<class 'pandas.core.frame.DataFrame'>\n",
      "RangeIndex: 6259 entries, 0 to 6258\n",
      "Data columns (total 12 columns):\n",
      " #   Column    Non-Null Count  Dtype \n",
      "---  ------    --------------  ----- \n",
      " 0   index     6259 non-null   int64 \n",
      " 1   price     6259 non-null   int64 \n",
      " 2   speed     6259 non-null   int64 \n",
      " 3   hd        6259 non-null   int64 \n",
      " 4   ram       6259 non-null   int64 \n",
      " 5   screen    6259 non-null   int64 \n",
      " 6   cd        6259 non-null   object\n",
      " 7   multi     6259 non-null   object\n",
      " 8   premium   6259 non-null   object\n",
      " 9   ads_2022  6259 non-null   int64 \n",
      " 10  ads_2023  6259 non-null   int64 \n",
      " 11  trend     6259 non-null   int64 \n",
      "dtypes: int64(9), object(3)\n",
      "memory usage: 586.9+ KB\n"
     ]
    }
   ],
   "source": [
    "# Printing the information about the dataset\n",
    "computers_data.info()"
   ]
  },
  {
   "cell_type": "code",
   "execution_count": 17,
   "metadata": {},
   "outputs": [
    {
     "name": "stdout",
     "output_type": "stream",
     "text": [
      "Missing values in each column:\n",
      " index       0\n",
      "price       0\n",
      "speed       0\n",
      "hd          0\n",
      "ram         0\n",
      "screen      0\n",
      "cd          0\n",
      "multi       0\n",
      "premium     0\n",
      "ads_2022    0\n",
      "ads_2023    0\n",
      "trend       0\n",
      "dtype: int64\n"
     ]
    }
   ],
   "source": [
    "# Counting missing values in each column\n",
    "missing_values = computers_data.isnull().sum()\n",
    "print('Missing values in each column:\\n', missing_values)"
   ]
  },
  {
   "cell_type": "code",
   "execution_count": 18,
   "metadata": {},
   "outputs": [
    {
     "name": "stdout",
     "output_type": "stream",
     "text": [
      "Categorical columns:    Numerical columns:\n",
      "----------------------  --------------------\n",
      "cd                      index\n",
      "multi                   price\n",
      "premium                 speed\n",
      "                        hd\n",
      "                        ram\n",
      "                        screen\n",
      "                        ads_2022\n",
      "                        ads_2023\n",
      "                        trend\n"
     ]
    }
   ],
   "source": [
    "# Separate the columns into categorical and numerical data types and display them.\n",
    "def separate_columns(df):\n",
    "    cat_cols = []\n",
    "    num_cols = []\n",
    "    \n",
    "    for col in df.columns:\n",
    "        if df[col].dtype == 'object':\n",
    "            cat_cols.append(col)\n",
    "        else:\n",
    "            num_cols.append(col)\n",
    "    return cat_cols, num_cols\n",
    "\n",
    "cat_cols, num_cols = separate_columns(computers_data)\n",
    "\n",
    "table = [cat_cols, num_cols]\n",
    "print(tabulate({'Categorical': cat_cols, 'Numerical': num_cols}, headers = ['Categorical columns:', 'Numerical columns:']))"
   ]
  },
  {
   "cell_type": "markdown",
   "metadata": {},
   "source": [
    "Interpretation- Data preprocessing is done, cleaning is not required. There are no missing values in the data."
   ]
  },
  {
   "cell_type": "markdown",
   "metadata": {},
   "source": [
    "## Business Objective 1- Enhance Product Strategy and Sales Performance through Specification-Based Analysis"
   ]
  },
  {
   "cell_type": "markdown",
   "metadata": {},
   "source": [
    "### Task 1"
   ]
  },
  {
   "cell_type": "markdown",
   "metadata": {},
   "source": [
    "#### a) Analyze Purchase Likelihood Based on Specifications"
   ]
  },
  {
   "cell_type": "markdown",
   "metadata": {},
   "source": [
    "The company wants to understand the likelihood of customers purchasing specific computer configurations based on a combination of desired features (RAM size, processor speed, size of the computer screen). What is the probability of a customer purchasing a computer with at least 8GB of RAM, computer screen size of 14 inch, and a processor speed exceeding 33 MHz?"
   ]
  },
  {
   "cell_type": "code",
   "execution_count": 24,
   "metadata": {},
   "outputs": [
    {
     "name": "stdout",
     "output_type": "stream",
     "text": [
      "Probability of a customer purchasing a computer with at least 8GB of RAM, computer screen size of 14 inch, and a processor speed exceeding 33 MHz= 0.2481\n"
     ]
    }
   ],
   "source": [
    "# Filter the DataFrame based on the given conditions\n",
    "filtered_df = computers_data[(computers_data['ram'] >= 8) & (computers_data['screen'] == 14) & (computers_data['speed'] >= 33)]\n",
    "\n",
    "# Calculate the probability\n",
    "total_customers = len(computers_data)\n",
    "customers_with_desired_configuration = len(filtered_df)\n",
    "config_probability = round(customers_with_desired_configuration / total_customers, 4)\n",
    "print(\"Probability of a customer purchasing a computer with at least 8GB of RAM, computer screen size of 14 inch, and a processor speed exceeding 33 MHz=\", config_probability)"
   ]
  },
  {
   "cell_type": "markdown",
   "metadata": {},
   "source": [
    "#### b) Probability of Selling Premium Computers"
   ]
  },
  {
   "cell_type": "markdown",
   "metadata": {},
   "source": [
    "I. What is the probability of selling a premium computer?"
   ]
  },
  {
   "cell_type": "code",
   "execution_count": 27,
   "metadata": {},
   "outputs": [
    {
     "name": "stdout",
     "output_type": "stream",
     "text": [
      "Probability of selling a premium computer = 0.9022\n"
     ]
    }
   ],
   "source": [
    "# Filter for premium computers\n",
    "premium_computers = computers_data[(computers_data['premium']) == 'yes']\n",
    "\n",
    "# Calculate the probability\n",
    "total_computers = len(computers_data)\n",
    "total_premium_computers = len(premium_computers)\n",
    "premium_probability = round(total_premium_computers / total_computers, 4)\n",
    "print(\"Probability of selling a premium computer =\", premium_probability)"
   ]
  },
  {
   "cell_type": "markdown",
   "metadata": {},
   "source": [
    "II. Given that a computer is premium, what is the probability that it has a CD player?"
   ]
  },
  {
   "cell_type": "code",
   "execution_count": 29,
   "metadata": {},
   "outputs": [
    {
     "name": "stdout",
     "output_type": "stream",
     "text": [
      "Probability of premium computer having a CD player = 0.5001\n"
     ]
    }
   ],
   "source": [
    "# Filter for premium computers\n",
    "premium_computers = computers_data[(computers_data['premium']) == 'yes']\n",
    "\n",
    "# Filter for premium computers with CD players\n",
    "premium_computers_with_cd = premium_computers[(premium_computers['cd']) == 'yes']\n",
    "\n",
    "# Calculate conditional probability\n",
    "total_premium_computers = len(premium_computers)\n",
    "premium_with_cd_probability = round(len(premium_computers_with_cd) / total_premium_computers, 4)\n",
    "print(\"Probability of premium computer having a CD player =\", premium_with_cd_probability)"
   ]
  },
  {
   "cell_type": "markdown",
   "metadata": {},
   "source": [
    "#### c) Predicting the Probability of Certain Specifications"
   ]
  },
  {
   "cell_type": "markdown",
   "metadata": {},
   "source": [
    "I. What is the probability of a computer having a screen size greater than 15 inches and being premium?"
   ]
  },
  {
   "cell_type": "code",
   "execution_count": 32,
   "metadata": {},
   "outputs": [
    {
     "name": "stdout",
     "output_type": "stream",
     "text": [
      "Probability of a computer having a screen size greater than 15 inches and being premium = 0.0847\n"
     ]
    }
   ],
   "source": [
    "# Filter the DataFrame based on the given conditions\n",
    "filtered_df2 = computers_data[(computers_data['screen'] > 15) & (computers_data['premium'] == 'yes')]\n",
    "\n",
    "# Calculate the probability\n",
    "total_computers = len(computers_data)\n",
    "computers_with_desired_configuration = len(filtered_df2)\n",
    "large_screen_premium_probability = round(computers_with_desired_configuration / total_computers, 4)\n",
    "print(\"Probability of a computer having a screen size greater than 15 inches and being premium =\", large_screen_premium_probability)"
   ]
  },
  {
   "cell_type": "markdown",
   "metadata": {},
   "source": [
    "II. Given that a computer is not premium, what is the probability that it has a screen size less than or equal to 14 inches?"
   ]
  },
  {
   "cell_type": "code",
   "execution_count": 34,
   "metadata": {},
   "outputs": [
    {
     "name": "stdout",
     "output_type": "stream",
     "text": [
      "Probability of a non-premium computer having a screen size less than or equal to 14 inches = 0.6912\n"
     ]
    }
   ],
   "source": [
    "# Filter for non-premium computers\n",
    "non_premium_computers = computers_data[(computers_data['premium']) == 'no']\n",
    "\n",
    "# Filter for non-premium computers with screen size less than or equal to 14 inches\n",
    "non_premium_small_screen = non_premium_computers[(non_premium_computers['screen']) <= 14]\n",
    "\n",
    "# Calculate conditional probability\n",
    "total_non_premium_computers = len(non_premium_computers)\n",
    "non_premium_small_screen_probability = round(len(non_premium_small_screen) / total_non_premium_computers, 4)\n",
    "print(\"Probability of a non-premium computer having a screen size less than or equal to 14 inches =\", non_premium_small_screen_probability)"
   ]
  },
  {
   "cell_type": "markdown",
   "metadata": {},
   "source": [
    "#### d) Likelihood of computers having both a CD player and a multimedia kit "
   ]
  },
  {
   "cell_type": "markdown",
   "metadata": {},
   "source": [
    "I. What is the joint probability of computers having both a CD player and a multimedia kit? "
   ]
  },
  {
   "cell_type": "code",
   "execution_count": 37,
   "metadata": {},
   "outputs": [
    {
     "name": "stdout",
     "output_type": "stream",
     "text": [
      "Joint Probability of computers having both a CD player and a multimedia kit = 0.1395\n"
     ]
    }
   ],
   "source": [
    "# Filter the DataFrame based on the given conditions\n",
    "filtered_df3 = computers_data[(computers_data['cd'] == 'yes') & (computers_data['multi'] == 'yes')]\n",
    "\n",
    "# Calculate the probability\n",
    "total_computers = len(computers_data)\n",
    "cd_with_multi_probability = round(len(filtered_df3) / total_computers, 4)\n",
    "print(\"Joint Probability of computers having both a CD player and a multimedia kit =\", cd_with_multi_probability)"
   ]
  },
  {
   "cell_type": "markdown",
   "metadata": {},
   "source": [
    "II. Given that a computer has a CD player, what is the probability that it also has a multimedia kit?"
   ]
  },
  {
   "cell_type": "code",
   "execution_count": 39,
   "metadata": {},
   "outputs": [
    {
     "name": "stdout",
     "output_type": "stream",
     "text": [
      "Probability of a computer with a CD player also having a multimedia kit = 0.3002\n"
     ]
    }
   ],
   "source": [
    "# Filter for computers with a CD player\n",
    "cd_computers = computers_data[(computers_data['cd'] == 'yes')]\n",
    "\n",
    "# Filter for computers with both CD player and multimedia kit\n",
    "cd_and_multi_computers = cd_computers[(cd_computers['multi'] == 'yes')]\n",
    "\n",
    "# Calculate conditional probability\n",
    "total_cd_computers = len(cd_computers)\n",
    "cd_having_multi_probability = round(len(cd_and_multi_computers) / total_cd_computers, 4)\n",
    "print(\"Probability of a computer with a CD player also having a multimedia kit =\", cd_having_multi_probability)"
   ]
  },
  {
   "cell_type": "markdown",
   "metadata": {},
   "source": [
    "#### Interpretations-\n",
    "\n",
    "1. 1 in 4 customer purchases a computer with at least 8GB of RAM, computer screen size of 14 inch, and a processor speed exceeding 33 MHz.\n",
    "2. 9 out of 10 computers sold are premium computers.\n",
    "3. Half of the premium computers have a CD player.\n",
    "4. Probability of a computer having a screen size greater than 15 inches and being premium is very low at 8.47%.\n",
    "5. 7 out of 10 non-premium computers have smaller screen sizes less than or equal to 14 inches.\n",
    "6. 13.95% of all computers have both a CD player and a multimedia kit.\n",
    "7. 30.02% of computers having CD player also have a multimedia kit."
   ]
  },
  {
   "cell_type": "markdown",
   "metadata": {},
   "source": [
    "## Business Objective 2: Assessing Price Disparities Between Premium and Non-Premium Computers as compared to prices of both categories together"
   ]
  },
  {
   "cell_type": "markdown",
   "metadata": {},
   "source": [
    "### Task 2"
   ]
  },
  {
   "cell_type": "markdown",
   "metadata": {},
   "source": [
    "#### a) What is the average price of computers in the population/whole data? "
   ]
  },
  {
   "cell_type": "code",
   "execution_count": 44,
   "metadata": {},
   "outputs": [
    {
     "name": "stdout",
     "output_type": "stream",
     "text": [
      "Average price of computers in the population/whole data = 2219.58\n"
     ]
    }
   ],
   "source": [
    "# Calculate the average price\n",
    "average_price = computers_data['price'].mean()\n",
    "\n",
    "# Round the average price to 2 decimal places\n",
    "average_price = round(average_price, 2)\n",
    "\n",
    "print(\"Average price of computers in the population/whole data =\", average_price)"
   ]
  },
  {
   "cell_type": "markdown",
   "metadata": {},
   "source": [
    "#### b) How does the average price of samples vary when data is sampled using different sampling techniques?"
   ]
  },
  {
   "cell_type": "code",
   "execution_count": 46,
   "metadata": {},
   "outputs": [
    {
     "name": "stdout",
     "output_type": "stream",
     "text": [
      "Average price of samples taken using-\n",
      "1. Simple Random Sampling with Replacement technique = 2181.61\n",
      "2. Systematic Sampling technique = 2220.65\n",
      "3. Stratified Sampling technique = 2370.585\n",
      "4. Clustered Sampling technique = 2186.89\n"
     ]
    }
   ],
   "source": [
    "print('Average price of samples taken using-')\n",
    "\n",
    "# Simple Random Sampling with Replacement\n",
    "srswr_mean = (computers_data['price'].sample(n=100, replace=True, random_state=1)).mean()\n",
    "print('1. Simple Random Sampling with Replacement technique =',srswr_mean)\n",
    "\n",
    "# Systematic Sampling\n",
    "indexes = np.arange(0, len(computers_data), step=10)\n",
    "sys_samp_mean = round((computers_data['price'].iloc[indexes]).mean(), 2)\n",
    "print('2. Systematic Sampling technique =',sys_samp_mean)\n",
    "\n",
    "# Stratified Sampling\n",
    "strat_samp_mean = (computers_data.groupby('premium')['price'].sample(n=100, replace=True, random_state=1)).mean()\n",
    "print('3. Stratified Sampling technique =',strat_samp_mean)\n",
    "\n",
    "# Clustered Sampling\n",
    "clust_samp_mean = round(computers_data.sample(n=100, replace=True, random_state=1).groupby('index')['price'].mean().mean(), 2)\n",
    "print('4. Clustered Sampling technique =',clust_samp_mean)"
   ]
  },
  {
   "cell_type": "markdown",
   "metadata": {},
   "source": [
    "#### c) What is the average price of premium and non-premium computers in the whole data? How does the average price differ between premium and non-premium computers of sampled data using simple random sampling without replacement? "
   ]
  },
  {
   "cell_type": "code",
   "execution_count": 48,
   "metadata": {},
   "outputs": [
    {
     "name": "stdout",
     "output_type": "stream",
     "text": [
      "Average price of premium computers: 2204.15\n",
      "Average price of non-premium computers: 2361.93\n",
      "Average price of premium computers in samples: 2291.92\n",
      "Average price of non-premium computers in samples: 2316.81\n"
     ]
    }
   ],
   "source": [
    "# Average price of premium and non-premium computers in the whole data\n",
    "avg_price_premium = round(computers_data[computers_data['premium'] == 'yes']['price'].mean(), 2)\n",
    "avg_price_non_premium = round(computers_data[computers_data['premium'] == 'no']['price'].mean(), 2)\n",
    "print(\"Average price of premium computers:\", avg_price_premium)\n",
    "print(\"Average price of non-premium computers:\", avg_price_non_premium)\n",
    "\n",
    "# Simple random sampling without replacement\n",
    "sample_mean_premium = computers_data[computers_data['premium'] == 'yes']['price'].sample(n=100, random_state=1).mean()\n",
    "print(\"Average price of premium computers in samples:\", sample_mean_premium)\n",
    "sample_mean_non_premium = computers_data[computers_data['premium'] == 'no']['price'].sample(n=100, random_state=1).mean()\n",
    "print(\"Average price of non-premium computers in samples:\", sample_mean_non_premium)"
   ]
  },
  {
   "cell_type": "markdown",
   "metadata": {},
   "source": [
    "#### d) Write your interpretation by comparing prices of premium and non-premium computers individually and prices of both categories together."
   ]
  },
  {
   "cell_type": "markdown",
   "metadata": {},
   "source": [
    "Within Categories:\n",
    "\n",
    "1. Premium Computers: The average price of premium computers in the samples is slightly higher than the population average. This could be due to random sampling variation or potential biases in the sampling process.\n",
    "2. Non-Premium Computers: The average price of non-premium computers in the samples is slightly lower than the population average. This again could be attributed to random sampling variability.\n",
    "\n",
    "Between Categories:\n",
    "\n",
    "In both the population and the samples, non-premium computers have a higher average price than premium computers. This might seem opposite to expectations, as one might expect premium products to be more expensive. It could be due to various factors such as specific features, brand value, or market dynamics."
   ]
  },
  {
   "cell_type": "markdown",
   "metadata": {},
   "source": [
    "#### Interpretations-\n",
    "\n",
    "1. A computer costs $2219.58 on average.\n",
    "2. Stratified Sampling technique gives the highest average price of samples taken while Simple Random Sampling with Replacement technique and Clustered Sampling technique give the lowest average price of samples taken.\n",
    "3. Overall trend indicates that non-premium computers, on average, are more expensive than premium computers in both the population and the samples."
   ]
  },
  {
   "cell_type": "markdown",
   "metadata": {},
   "source": [
    "## Business Objective 3: Understanding Computer Price Trends Through Distribution Analysis"
   ]
  },
  {
   "cell_type": "markdown",
   "metadata": {},
   "source": [
    "### Task 3"
   ]
  },
  {
   "cell_type": "markdown",
   "metadata": {},
   "source": [
    "#### a) How does the distribution of sample means change for computer prices with different sample sizes? "
   ]
  },
  {
   "cell_type": "code",
   "execution_count": 55,
   "metadata": {},
   "outputs": [
    {
     "data": {
      "image/png": "[encoded data removed]",
      "text/plain": [
       "<Figure size 1500x800 with 8 Axes>"
      ]
     },
     "metadata": {},
     "output_type": "display_data"
    }
   ],
   "source": [
    "# Distribution of sample means with different sample sizes\n",
    "num = [10, 30, 50, 100, 200, 500, 1000, 3000]\n",
    "data_s = []\n",
    "sample_df = pd.DataFrame()\n",
    "\n",
    "fig,ax = plt.subplots(2, 4, figsize=(15,8))\n",
    "for i in num:\n",
    "    sample_df = computers_data.sample(n=i, random_state=1, replace=True)\n",
    "    data_s.append(sample_df['price'].tolist())\n",
    "\n",
    "k=0\n",
    "for i in range(0,2):\n",
    "    for j in range(0,4):\n",
    "        sns.distplot(data_s[k], ax=ax[i,j])\n",
    "        ax[i,j].set_title(label = 'Sample Size='+str(len(data_s[k])))\n",
    "        k+=1\n",
    "\n",
    "plt.show()"
   ]
  },
  {
   "cell_type": "markdown",
   "metadata": {},
   "source": [
    "#### b) Does the distribution of sample means approximate a normal distribution as sample size increases? "
   ]
  },
  {
   "cell_type": "markdown",
   "metadata": {},
   "source": [
    "Yes, the distribution of sample means approximates a normal distribution as the sample size increases.\n",
    "\n",
    "This is a clear demonstration of the Central Limit Theorem. As the sample size grows larger, the distribution of sample means tends to follow a normal distribution, regardless of the underlying distribution of the population.\n",
    "\n",
    "In the above histograms, we can observe the following trends:\n",
    "\n",
    "1. Smaller sample sizes: The distributions are more skewed and less bell-shaped.\n",
    "2. Larger sample sizes: The distributions become increasingly symmetric and bell-shaped, resembling a normal distribution."
   ]
  },
  {
   "cell_type": "markdown",
   "metadata": {},
   "source": [
    "#### c) Check if properties of Central limit theorem for the samples is satisfied."
   ]
  },
  {
   "cell_type": "code",
   "execution_count": 59,
   "metadata": {},
   "outputs": [
    {
     "name": "stdout",
     "output_type": "stream",
     "text": [
      "Population Mean = 2219.576609682058\n",
      "Population Median = 2144\n",
      "Population SD = 580.8039556527063\n",
      "Skewness = 0.7117247480608602\n",
      "Kurtosis = 0.7304170367653207\n"
     ]
    }
   ],
   "source": [
    "# Calculation of Population Parameter (Mean, Median, Standard Deviation)\n",
    "data_p = computers_data['price'].tolist()\n",
    "p_mean = st.mean(data_p)\n",
    "p_median = st.median(data_p)\n",
    "p_sd = st.stdev(data_p)\n",
    "\n",
    "print('Population Mean = ' +str(p_mean))\n",
    "print('Population Median = ' +str(p_median))\n",
    "print('Population SD = ' +str(p_sd))\n",
    "print('Skewness = ' +str(sts.skew(data_p, bias=False)))\n",
    "print('Kurtosis = ' +str(sts.kurtosis(data_p, bias=False)))"
   ]
  },
  {
   "cell_type": "code",
   "execution_count": 60,
   "metadata": {},
   "outputs": [
    {
     "name": "stdout",
     "output_type": "stream",
     "text": [
      "Sample Mean = 2181.61\n",
      "Sample Median = 2095.0\n",
      "Sample SD = 570.175126295829\n",
      "Skewness = 0.9404771167109989\n",
      "Kurtosis = 0.8912673716554047\n"
     ]
    }
   ],
   "source": [
    "# Calculation of Sample Statistics (Mean, Median, Standard Deviation)\n",
    "sample_df = computers_data.sample(n=100, random_state=1, replace=True)\n",
    "\n",
    "data_s = sample_df['price'].tolist()\n",
    "s_mean = st.mean(data_s)\n",
    "s_median = st.median(data_s)\n",
    "s_sd = st.stdev(data_s)\n",
    "\n",
    "print('Sample Mean = ' +str(s_mean))\n",
    "print('Sample Median = ' +str(s_median))\n",
    "print('Sample SD = ' +str(s_sd))\n",
    "print('Skewness = ' +str(sts.skew(data_s, bias=False)))\n",
    "print('Kurtosis = ' +str(sts.kurtosis(data_s, bias=False)))"
   ]
  },
  {
   "cell_type": "code",
   "execution_count": 61,
   "metadata": {},
   "outputs": [
    {
     "data": {
      "text/plain": [
       "[<matplotlib.lines.Line2D at 0x18aefc19490>]"
      ]
     },
     "execution_count": 61,
     "metadata": {},
     "output_type": "execute_result"
    },
    {
     "data": {
      "image/png": "[encoded data removed]",
      "text/plain": [
       "<Figure size 640x480 with 1 Axes>"
      ]
     },
     "metadata": {},
     "output_type": "display_data"
    }
   ],
   "source": [
    "#Probability Distribution curve of population and sample\n",
    "lower_p = p_mean-4*p_sd\n",
    "upper_p = p_mean+4*p_sd\n",
    "norm_p = np.arange(lower_p, upper_p)\n",
    "plt.plot(norm_p, norm.pdf(norm_p, p_mean, p_sd))"
   ]
  },
  {
   "cell_type": "markdown",
   "metadata": {},
   "source": [
    "#### Interpretations-\n",
    "\n",
    "1. The distribution of sample means approximates a normal distribution as the sample size increases.\n",
    "2. For smaller sample sizes: The distributions are more skewed and less bell-shaped.\n",
    "3. For larger sample sizes: The distributions become increasingly symmetric and bell-shaped, resembling a normal distribution.\n",
    "4. Sample Mean is very close to the Population Mean.\n",
    "5. Sample Standard Deviation is approximately equal to the Population Standard Deviation.\n",
    "6. According to the graph, distribution is symmetric and bell-shaped, meaning that the data is normally distributed."
   ]
  },
  {
   "cell_type": "markdown",
   "metadata": {
    "jp-MarkdownHeadingCollapsed": true
   },
   "source": [
    "# Refining Computer Sales Strategy Through Statistical Analysis Project - Part 2"
   ]
  },
  {
   "cell_type": "markdown",
   "metadata": {},
   "source": [
    "## Business Objective 4: Analyzing Advertising Budget for Premium Computers by Identifying Budget Allocation"
   ]
  },
  {
   "cell_type": "markdown",
   "metadata": {},
   "source": [
    "### Task 1"
   ]
  },
  {
   "cell_type": "markdown",
   "metadata": {},
   "source": [
    "The advertising budget spent on promoting premium computers in 2023 is increased as compared to 2022. The mean advertising budget was 221.3 billion dollars in 2022 and it was 222.2 billion dollars in 2023. A promoter in this company believes that the average advertising budget is higher than that of 2022. Priya, a data analyst, randomly selected 40 premium computers to check this notion. Use a 5% level of significance to test Maya's hypothesis. Consider normally distribution in the population and standard deviation is 74.83."
   ]
  },
  {
   "cell_type": "raw",
   "metadata": {},
   "source": [
    "Null and Alternate hypothesis to determine if the average advertising budget for promoting premium computers has increased than that of 2022 and the type of tailed-test to be performed-\n",
    "\n",
    "1. HO: the average advertising budget for promoting premium computers in 2023 is lesser or equal to 221.3 billion dollars.\n",
    "2. HA: the average advertising budget for promoting premium computers in 2023 is more than 221.3 billion dollars.\n",
    "3. Using Symbols: H0: μ <= 221.3 billion dollars, HA: μ > 221.3 billion dollars.\n",
    "4. One sided right hypothesis z-test is to be performed."
   ]
  },
  {
   "cell_type": "code",
   "execution_count": 156,
   "metadata": {},
   "outputs": [
    {
     "name": "stdout",
     "output_type": "stream",
     "text": [
      "Average advertising budget for promoting premium computers in samples = 211.05\n"
     ]
    }
   ],
   "source": [
    "# Filter for premium computers\n",
    "premium_computers = computers_data[(computers_data['premium']) == 'yes']\n",
    "\n",
    "# Calculate the sample average advertising budget for promoting premium computers using simple random sampling without replacement\n",
    "sample_avg_ad_premium = premium_computers['ads_2023'].sample(n=40, random_state=1).mean()\n",
    "print(\"Average advertising budget for promoting premium computers in samples =\", sample_avg_ad_premium)"
   ]
  },
  {
   "cell_type": "code",
   "execution_count": 158,
   "metadata": {},
   "outputs": [
    {
     "name": "stdout",
     "output_type": "stream",
     "text": [
      "Population mean (μ) = 221.3\n",
      "Population SD (sigma) = 74.83\n",
      "Sample mean (x) = 211.05\n",
      "Sample size (n) = 40\n"
     ]
    }
   ],
   "source": [
    "# Test statistics for the hypothesis test\n",
    "p_mean = 221.3\n",
    "print('Population mean (μ) =',p_mean)\n",
    "p_sd = 74.83\n",
    "print('Population SD (sigma) = ' +str(p_sd))\n",
    "s_mean = 211.05\n",
    "print('Sample mean (x) =',s_mean)\n",
    "print('Sample size (n) = 40')"
   ]
  },
  {
   "cell_type": "code",
   "execution_count": 183,
   "metadata": {},
   "outputs": [
    {
     "name": "stdout",
     "output_type": "stream",
     "text": [
      "z-critical = 1.6448536269514722\n",
      "z-statistics = -0.2739542964051851\n",
      "p-value = 0.3920598722880369\n"
     ]
    }
   ],
   "source": [
    "# For alpha = 0.05, calculate the critical value of the hypothesis test\n",
    "x = 211.05\n",
    "mue = 221.3\n",
    "sigma = 74.83\n",
    "n = 4\n",
    "alpha = 0.05\n",
    "\n",
    "z_critical = norm.ppf(1-alpha)\n",
    "print('z-critical =', z_critical)\n",
    "\n",
    "# Calculate the test statistic and p-value for the hypothesis test\n",
    "z_statistics = (x-mue)/(sigma/math.sqrt(n))\n",
    "print('z-statistics =', z_statistics)\n",
    "\n",
    "p_value = norm.sf(abs(z_statistics))\n",
    "print('p-value =', p_value)"
   ]
  },
  {
   "cell_type": "raw",
   "metadata": {},
   "source": [
    "As per, decision rule:\n",
    "\n",
    "1. If p-value < alpha, Rejection of null hupothesis HO\n",
    "2. If -z-critical > z-statistics > +z-critical, Rejection of null hupothesis HO\n",
    "\n",
    "In our study,\n",
    "\n",
    "1. p-value = 0.392 > alpha = 0.05, which leads to acceptance of Null Hypothesis.\n",
    "2. z-statistics = -0.274 < +z-critical = 1.645, which leads to acceptance of Null Hypothesis."
   ]
  },
  {
   "cell_type": "markdown",
   "metadata": {},
   "source": [
    "#### Interpretation-\n",
    "\n",
    "A sample of randomly selected 40 premium computers yields a sample mean of 211.05, which falls in the acceptance region.\n",
    "\n",
    "The analyst, Priya, decides to accept the null hypothesis.\n",
    "\n",
    "There is no change in the average advertising budget for promoting premium computers and the hypothesis testing process identifies the same."
   ]
  },
  {
   "cell_type": "markdown",
   "metadata": {},
   "source": [
    "## Business Objective 5: Evaluate the Price Difference between Computers with and without CD Players"
   ]
  },
  {
   "cell_type": "markdown",
   "metadata": {},
   "source": [
    "### Task 2"
   ]
  },
  {
   "cell_type": "markdown",
   "metadata": {},
   "source": [
    "Is there a statistically significant difference in the average price of computers with CD players and computers without CD players? Use 5% of the significance level for the test."
   ]
  },
  {
   "cell_type": "raw",
   "metadata": {},
   "source": [
    "Null and Alternate hypothesis to determine if there is a statistically significant difference in the average price of computers with CD players and computers without CD players and the type of tailed-test to be performed-\n",
    "\n",
    "1. HO: there is no significant difference in the average price of computers with CD players and computers without CD players.\n",
    "2. HA: there is significant difference in the average price of computers with CD players and computers without CD players.\n",
    "3. Using Symbols: H0: μ1 - μ2 = 0, HA: μ1 - μ2 ≠ 0.\n",
    "4. Two tailed hypothesis z-test is to be performed."
   ]
  },
  {
   "cell_type": "code",
   "execution_count": 187,
   "metadata": {},
   "outputs": [
    {
     "name": "stdout",
     "output_type": "stream",
     "text": [
      "Sample of Computers with CD players:\n",
      "Mean = 2313.32\n",
      "Standard Deviation = 530.9401396760203\n",
      "Sample Size = 100\n",
      "Variance = 281897.43191919196\n",
      "\n",
      "Sample of Computers without CD players:\n",
      "Mean = 2087\n",
      "Standard Deviation = 532.3632275623534\n",
      "Sample Size = 100\n",
      "Variance = 283410.606060606\n"
     ]
    }
   ],
   "source": [
    "# Calculate the sample statistics for price of computers with CD players using simple random sampling without replacement\n",
    "cd_sample = computers_data[computers_data['cd'] == 'yes']['price'].sample(n=100, random_state=1)\n",
    "n1 = len(cd_sample)\n",
    "s_mean1 = st.mean(cd_sample)\n",
    "s_sd1 = st.stdev(cd_sample)\n",
    "s_var1 = s_sd1**2\n",
    "print('Sample of Computers with CD players:')\n",
    "print('Mean = ' +str(s_mean1))\n",
    "print('Standard Deviation = ' +str(s_sd1))\n",
    "print('Sample Size = ' +str(n1))\n",
    "print('Variance = ' +str(s_var1))\n",
    "\n",
    "# Calculate the sample statistics for price of computers without CD players using simple random sampling without replacement\n",
    "no_cd_sample = computers_data[computers_data['cd'] == 'no']['price'].sample(n=100, random_state=1)\n",
    "n2 = len(no_cd_sample)\n",
    "s_mean2 = st.mean(no_cd_sample)\n",
    "s_sd2 = st.stdev(no_cd_sample)\n",
    "s_var2 = s_sd2**2\n",
    "print('\\nSample of Computers without CD players:')\n",
    "print('Mean = ' +str(s_mean2))\n",
    "print('Standard Deviation = ' +str(s_sd2))\n",
    "print('Sample Size = ' +str(n2))\n",
    "print('Variance = ' +str(s_var2))"
   ]
  },
  {
   "cell_type": "code",
   "execution_count": 185,
   "metadata": {},
   "outputs": [
    {
     "name": "stdout",
     "output_type": "stream",
     "text": [
      "z-critical = 1.959963984540054\n",
      "z-statistics =  3.0100960520289073\n",
      "p-value = 0.0026116508441702563\n"
     ]
    }
   ],
   "source": [
    "# For alpha = 0.05, calculate the critical value of the hypothesis test\n",
    "alpha=0.05\n",
    "z_critical = norm.ppf(1 - alpha/2) # two tailed test\n",
    "print(\"z-critical = \"+str(z_critical))\n",
    "\n",
    "# Calculate the test statistic and p-value for the hypothesis test\n",
    "z_statistics = ((s_mean1 - s_mean2)- 0) / (math.sqrt(s_var1/n1 + s_var2/n2)) \n",
    "print(\"z-statistics = \", z_statistics)\n",
    "\n",
    "p_value = norm.sf(abs(z_statistics))*2 #two tailed test\n",
    "print(\"p-value = \"+str(p_value))"
   ]
  },
  {
   "cell_type": "raw",
   "metadata": {},
   "source": [
    "As per, decision rule:\n",
    "\n",
    "1. If p-value < alpha, Rejection of null hupothesis HO\n",
    "2. If -z-critical > z-statistics > +z-critical, Rejection of null hupothesis HO\n",
    "\n",
    "In our study,\n",
    "\n",
    "1. p-value = 0.003 < alpha = 0.05, which leads to rejection of Null Hypothesis.\n",
    "2. z-statistics = 3.01 > +z-critical = 1.96, which leads to rejection of Null Hypothesis."
   ]
  },
  {
   "cell_type": "markdown",
   "metadata": {},
   "source": [
    "#### Interpretation-\n",
    "\n",
    "The analyst rejects the null hypothesis and can say that there is significant difference in the average price of computers with CD players and computers without CD players and the hypothesis testing process identifies the same."
   ]
  },
  {
   "cell_type": "markdown",
   "metadata": {},
   "source": [
    "## Business Objective 6: Analyze Premium Computer Pricing Strategy"
   ]
  },
  {
   "cell_type": "markdown",
   "metadata": {},
   "source": [
    "### Task 3"
   ]
  },
  {
   "cell_type": "markdown",
   "metadata": {},
   "source": [
    "#### a) Identify Price Discrepancy for Premium Computers"
   ]
  },
  {
   "cell_type": "markdown",
   "metadata": {},
   "source": [
    "Determine if the mean price of premium computers differs significantly from $2200? To examine this, select 25 samples of premium computers randomly from the data. Assume the data is normally distributed in the population. Use a 5% significance level to test this hypothesis."
   ]
  },
  {
   "cell_type": "raw",
   "metadata": {},
   "source": [
    "Null and Alternate hypothesis to determine if the mean price of premium computers differs significantly from $2200 and the type of tailed-test to be performed-\n",
    "\n",
    "1. HO: the average price of premium computers is $2200.\n",
    "2. HA: the average price of premium computers is more or less than $2200.\n",
    "3. Using Symbols: H0: μ = $2200, HA: μ ≠ $2200.\n",
    "4. One sample two tailed hypothesis t-test is to be performed."
   ]
  },
  {
   "cell_type": "code",
   "execution_count": 192,
   "metadata": {},
   "outputs": [
    {
     "name": "stdout",
     "output_type": "stream",
     "text": [
      "Sample Mean = 2214.28\n",
      "Sample Standard Deviation = 728.0982946461739\n",
      "Sample Size = 25\n"
     ]
    }
   ],
   "source": [
    "# Calculate the sample statistics for price of premium computers using simple random sampling without replacement\n",
    "premium_sample = computers_data[computers_data['premium'] == 'yes']['price'].sample(n=25, random_state=1)\n",
    "s_mean=st.mean(premium_sample)\n",
    "s_sd=st.stdev(premium_sample)\n",
    "n=len(premium_sample)\n",
    "print('Sample Mean = '+str(s_mean))\n",
    "print('Sample Standard Deviation = '+str(s_sd))\n",
    "print('Sample Size = '+str(n))"
   ]
  },
  {
   "cell_type": "code",
   "execution_count": 202,
   "metadata": {},
   "outputs": [
    {
     "name": "stdout",
     "output_type": "stream",
     "text": [
      "t-critical = -2.063898561628021\n",
      "t-statistic = 0.09806479968135945\n",
      "p-value = 0.9226952642712598\n"
     ]
    }
   ],
   "source": [
    "p_mean = 2200       # Population Mean\n",
    "s_mean = 2214.28    # Sample Mean\n",
    "s_sd = 728.09       # Sample Standard Deviation\n",
    "n = 25              # Sample Size\n",
    "dof = n-1           # Degrees of Freedom\n",
    "alpha = 0.05        # Significance level \n",
    "# As this is a two tailed test, we have to consider alpha/2 i.e. 0.025.\n",
    "\n",
    "# For alpha = 0.05, calculate the critical value of the hypothesis test\n",
    "t_critical = t.ppf(alpha/2, dof)\n",
    "print(\"t-critical = \"+str(t_critical))\n",
    "\n",
    "# Calculate the test statistic and p-value for the hypothesis test\n",
    "t_statistic = (s_mean - p_mean) / (s_sd/math.sqrt(n)) \n",
    "print(\"t-statistic =\", t_statistic)\n",
    "\n",
    "p_value = t.sf(abs(t_statistic),dof)*2 # considering two tails\n",
    "print(\"p-value =\", p_value)"
   ]
  },
  {
   "cell_type": "raw",
   "metadata": {},
   "source": [
    "As per, decision rule:\n",
    "\n",
    "1. If p-value < alpha : Rejection of Null Hypothesis (H0)\n",
    "2. If -t-critical > t-statistic > +t-critical : Rejection of Null Hypothesis (H0)\n",
    "\n",
    "In our study,\n",
    "\n",
    "1. p-value = 0.923 > alpha = 0.05, which leads to acceptance of Null Hypothesis\n",
    "2. -t-critical = -2.064 < t-statistic = 0.098, which leads to acceptance of Null Hypothesis."
   ]
  },
  {
   "cell_type": "markdown",
   "metadata": {},
   "source": [
    "#### Interpretation-\n",
    "\n",
    "A sample of prices of 25 premium computers yields a sample mean of 2214.28, which falls in the acceptance region.\n",
    "\n",
    "The analyst decides to accept the null hypothesis.\n",
    "\n",
    "There is no significant change in the average price of premium computers and the hypothesis testing process identifies the same."
   ]
  },
  {
   "cell_type": "code",
   "execution_count": 229,
   "metadata": {},
   "outputs": [
    {
     "data": {
      "image/png": "[encoded data removed]",
      "text/plain": [
       "<Figure size 640x480 with 1 Axes>"
      ]
     },
     "metadata": {},
     "output_type": "display_data"
    }
   ],
   "source": [
    "# Plotting the t-distribution\n",
    "s_mean = 2214.28    # Sample Mean\n",
    "s_sd = 728.09       # Sample Standard Deviation\n",
    "upper = s_mean+4*s_sd\n",
    "lower = s_mean-4*s_sd\n",
    "\n",
    "x=np.arange(-4,4,.05)\n",
    "tvals24=t.pdf(x,24)\n",
    "plt.plot(x,tvals24)\n",
    "plt.legend(['df=24'])\n",
    "plt.show()"
   ]
  },
  {
   "cell_type": "markdown",
   "metadata": {},
   "source": [
    "#### b) Analyze price disparity between premium and non-premium computers"
   ]
  },
  {
   "cell_type": "markdown",
   "metadata": {},
   "source": [
    "Is there a significant difference in the mean prices of premium and non-premium computers? Assume that the prices are normally distributed and that the population variances are approximately equal. Use a 5% significance level to test this hypothesis."
   ]
  },
  {
   "cell_type": "raw",
   "metadata": {},
   "source": [
    "Null and Alternate hypothesis to determine if the mean prices of premium and non-premium computers differ significantly from each other and the type of tailed-test to be performed-\n",
    "\n",
    "1. HO: there is no significant difference in the mean prices of premium and non-premium computers.\n",
    "2. HA: there is significant difference in the mean prices of premium and non-premium computers.\n",
    "3. Using Symbols: H0: μ1 - μ2 = 0, HA: μ1 - μ2 ≠ 0.\n",
    "4. Two sample two tailed hypothesis t-test is to be performed."
   ]
  },
  {
   "cell_type": "code",
   "execution_count": 211,
   "metadata": {},
   "outputs": [
    {
     "name": "stdout",
     "output_type": "stream",
     "text": [
      "Sample mean of premium = 2214.28\n",
      "Sample mean of non-premium = 2144.28\n",
      "Sample SD of premium = 728.0982946461739\n",
      "Sample SD of non-premium = 497.6244835884451\n",
      "Sample variance of premium = 530127.1266666667\n",
      "Sample variance of non-premium = 247630.12666666668\n",
      "Sample size of premium = 25\n",
      "Sample size of non-premium = 25\n",
      "Degrees of freedom = 48\n"
     ]
    }
   ],
   "source": [
    "# Calculate the sample statistics for prices of premium and non-premium computers using simple random sampling without replacement\n",
    "premium_sample = computers_data[computers_data['premium'] == 'yes']['price'].sample(n=25, random_state=1)\n",
    "non_premium_sample = computers_data[computers_data['premium'] == 'no']['price'].sample(n=25, random_state=1)\n",
    "\n",
    "x1=st.mean(premium_sample)\n",
    "x2=st.mean(non_premium_sample)\n",
    "sd1=st.stdev(premium_sample)\n",
    "sd2=st.stdev(non_premium_sample)\n",
    "v1=(st.stdev(premium_sample))**2\n",
    "v2=(st.stdev(non_premium_sample))**2\n",
    "n1=len(premium_sample)\n",
    "n2=len(non_premium_sample)\n",
    "df= n1+n2-2\n",
    "\n",
    "print(\"Sample mean of premium =\",x1)\n",
    "print(\"Sample mean of non-premium =\",x2)\n",
    "print(\"Sample SD of premium =\",sd1)\n",
    "print(\"Sample SD of non-premium =\",sd2)\n",
    "print(\"Sample variance of premium =\",v1)\n",
    "print(\"Sample variance of non-premium =\",v2)\n",
    "print(\"Sample size of premium =\",n1)\n",
    "print(\"Sample size of non-premium =\",n2)\n",
    "print('Degrees of freedom =',df)"
   ]
  },
  {
   "cell_type": "code",
   "execution_count": 217,
   "metadata": {},
   "outputs": [
    {
     "name": "stdout",
     "output_type": "stream",
     "text": [
      "t-critical = 2.010634757624232\n",
      "t-statistic = 0.05728295199956947\n",
      "p-value =  0.954557599480346\n"
     ]
    }
   ],
   "source": [
    "alpha = 0.05 # Significance level \n",
    "# As this is a two tailed test, we have to consider alpha/2 i.e. 0.025.\n",
    "\n",
    "# For alpha = 0.05, calculate the critical value of the hypothesis test\n",
    "t_critical = t.ppf(1-0.025, df)\n",
    "print('t-critical =',t_critical)\n",
    "\n",
    "# Calculate the test statistic and p-value for the hypothesis test\n",
    "signal = abs(x1-x2)\n",
    "noise = math.sqrt(v1*(n1-1) + v2*(n2-1))*math.sqrt(1/n1 + 1/n2)\n",
    "t_statistic = signal/noise\n",
    "print('t-statistic =',t_statistic)\n",
    "\n",
    "p_value = t.sf(abs(t_statistic),df)*2 #considering two tails\n",
    "print(\"p-value = \", p_value)"
   ]
  },
  {
   "cell_type": "raw",
   "metadata": {},
   "source": [
    "As per, decision rule:\n",
    "\n",
    "1. p-value < alpha : Rejection of Null Hypothesis (H0)\n",
    "2. If -t-critical > t-statistic > +t-critical : Rejection of Null Hypothesis(H0)\n",
    "\n",
    "In our study,\n",
    "\n",
    "1. p-value = 0.954 > alpha = 0.05, which leads to acceptance of Null Hypothesis.\n",
    "2. t-statistic = 0.0573 < +t-critical = 2.01, which leads to acceptance of Null Hypothesis."
   ]
  },
  {
   "cell_type": "markdown",
   "metadata": {},
   "source": [
    "#### Interpretation-\n",
    "\n",
    "The analyst decides to accept the null hypothesis.\n",
    "\n",
    "There is no significant difference in the mean prices of premium and non-premium computers and the hypothesis testing process identifies the same."
   ]
  },
  {
   "cell_type": "code",
   "execution_count": 227,
   "metadata": {},
   "outputs": [
    {
     "data": {
      "image/png": "[encoded data removed]",
      "text/plain": [
       "<Figure size 640x480 with 1 Axes>"
      ]
     },
     "metadata": {},
     "output_type": "display_data"
    }
   ],
   "source": [
    "# Plotting the t-distribution\n",
    "x=np.arange(-4,4,.05)\n",
    "tvals48=t.pdf(x,48)\n",
    "plt.plot(x,tvals48,color='brown')\n",
    "plt.legend(['df=48'])\n",
    "plt.show()"
   ]
  },
  {
   "cell_type": "markdown",
   "metadata": {},
   "source": [
    "# Summary"
   ]
  },
  {
   "cell_type": "markdown",
   "metadata": {},
   "source": [
    "1. 1 in 4 customer purchases a computer with at least 8GB of RAM, computer screen size of 14 inch, and a processor speed exceeding 33 MHz.\n",
    "2. 9 out of 10 computers sold are premium computers.\n",
    "3. Half of the premium computers have a CD player.\n",
    "4. Probability of a computer having a screen size greater than 15 inches and being premium is very low at 8.47%.\n",
    "5. 7 out of 10 non-premium computers have smaller screen sizes less than or equal to 14 inches.\n",
    "6. 13.95% of all computers have both a CD player and a multimedia kit.\n",
    "7. 30.02% of computers having CD player also have a multimedia kit.\n",
    "8. A computer costs $2219.58 on average.\n",
    "9. Stratified Sampling technique gives the highest average price of samples taken while Simple Random Sampling with Replacement technique and Clustered Sampling technique give the lowest average price of samples taken.\n",
    "10. Overall trend indicates that non-premium computers, on average, are more expensive than premium computers in both the population and the samples.\n",
    "11. The distribution of sample means for computer prices with different sample sizes approximates a normal distribution as the sample size increases. According to the graph, distribution is symmetric and bell-shaped, meaning that the data is normally distributed.\n",
    "12. For smaller sample sizes: The distributions are more skewed and less bell-shaped.\n",
    "13. For larger sample sizes: The distributions become increasingly symmetric and bell-shaped, resembling a normal distribution.\n",
    "14. Sample Mean is very close to the Population Mean for computer prices.\n",
    "15. Sample Standard Deviation is approximately equal to the Population Standard Deviation for computer prices.\n",
    "16. There is no change in the average advertising budget for promoting premium computers from 2022 to 2023.\n",
    "17. There is significant difference in the average price of computers with CD players and computers without CD players.\n",
    "18. There is no significant change in the average price of premium computers.\n",
    "19. There is no significant difference in the mean prices of premium and non-premium computers."
   ]
  },
  {
   "cell_type": "markdown",
   "metadata": {},
   "source": [
    "# Business Conclusions"
   ]
  },
  {
   "cell_type": "markdown",
   "metadata": {},
   "source": [
    "1. Product Insights-\n",
    "    1. Target Market: A significant portion of the customer base is interested in mid-range configurations with at least 8GB RAM, 14-inch screens, and 33 MHz+ processors.\n",
    "    2. Premium Segment Dominance: Premium computers constitute the majority of sales, indicating a strong preference for high-end features.\n",
    "    3. CD Player Demand: While half of premium computers include CD players, it's a less popular feature overall.\n",
    "    4. Screen Size Preferences: Most non-premium computers have smaller screens, suggesting a cost-conscious segment. Larger screens are primarily associated with premium models.\n",
    "\n",
    "2. Pricing and Cost Analysis-\n",
    "    1. Pricing Strategy: The overall average price of non-premium computers is higher than premium ones, an intriguing trend that requires deeper investigation.\n",
    "    2. Sampling Techniques: Stratified sampling provides the highest average price estimates, while simple random sampling with replacement and clustered sampling yield lower estimates.\n",
    "    3. Price Distribution: The distribution of sample means for computer prices tends towards a normal distribution as sample size increases.\n",
    "\n",
    "3. Marketing and Advertising-\n",
    "    1. Advertising Budget: The consistent advertising budget for premium computers suggests a stable marketing strategy.\n",
    "    2. Product Positioning: The lack of significant price differences between premium and non-premium models might require a re-evaluation of product positioning and value proposition.\n",
    "\n",
    "4. Recommendations-\n",
    "    1. Product Line Optimization: Consider expanding the mid-range segment to capitalize on the growing demand for higher-performance, affordable options.\n",
    "    2. Pricing Strategy Review: Conduct a thorough analysis of the pricing strategy for non-premium computers to understand the factors driving their higher average price.\n",
    "    3. Targeted Marketing: Implement targeted marketing campaigns for the premium segment, emphasizing features like larger screens and CD players.\n",
    "    4. Sampling Techniques: For future studies, consider a combination of sampling techniques to obtain more accurate and representative results.\n",
    "    5. Customer Segmentation: Deeper segmentation analysis can help identify specific customer needs and preferences, enabling tailored product offerings and marketing strategies."
   ]
  }
 ],
 "metadata": {
  "kernelspec": {
   "display_name": "Python 3 (ipykernel)",
   "language": "python",
   "name": "python3"
  },
  "language_info": {
   "codemirror_mode": {
    "name": "ipython",
    "version": 3
   },
   "file_extension": ".py",
   "mimetype": "text/x-python",
   "name": "python",
   "nbconvert_exporter": "python",
   "pygments_lexer": "ipython3",
   "version": "3.12.4"
  }
 },
 "nbformat": 4,
 "nbformat_minor": 4
}
